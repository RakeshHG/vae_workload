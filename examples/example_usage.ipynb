{
 "cells": [
  {
   "cell_type": "code",
   "execution_count": 2,
   "id": "8b00c6b7",
   "metadata": {},
   "outputs": [
    {
     "ename": "ModuleNotFoundError",
     "evalue": "No module named 'workloadgen'",
     "output_type": "error",
     "traceback": [
      "\u001b[1;31m---------------------------------------------------------------------------\u001b[0m",
      "\u001b[1;31mModuleNotFoundError\u001b[0m                       Traceback (most recent call last)",
      "Cell \u001b[1;32mIn[2], line 4\u001b[0m\n\u001b[0;32m      1\u001b[0m \u001b[38;5;124;03m'''Example usage of the workloadgen library to train and generate workloads.'''\u001b[39;00m\n\u001b[0;32m      3\u001b[0m \u001b[38;5;28;01mimport\u001b[39;00m \u001b[38;5;21;01mpandas\u001b[39;00m \u001b[38;5;28;01mas\u001b[39;00m \u001b[38;5;21;01mpd\u001b[39;00m\n\u001b[1;32m----> 4\u001b[0m \u001b[38;5;28;01mfrom\u001b[39;00m \u001b[38;5;21;01mworkloadgen\u001b[39;00m\u001b[38;5;21;01m.\u001b[39;00m\u001b[38;5;21;01mdata\u001b[39;00m \u001b[38;5;28;01mimport\u001b[39;00m load_and_clean_data\n\u001b[0;32m      5\u001b[0m \u001b[38;5;28;01mfrom\u001b[39;00m \u001b[38;5;21;01mworkloadgen\u001b[39;00m\u001b[38;5;21;01m.\u001b[39;00m\u001b[38;5;21;01mpreprocess\u001b[39;00m \u001b[38;5;28;01mimport\u001b[39;00m log_transform, scale_data\n\u001b[0;32m      6\u001b[0m \u001b[38;5;28;01mfrom\u001b[39;00m \u001b[38;5;21;01mworkloadgen\u001b[39;00m\u001b[38;5;21;01m.\u001b[39;00m\u001b[38;5;21;01mmodel\u001b[39;00m \u001b[38;5;28;01mimport\u001b[39;00m VAE, train_vae, save_model, load_model\n",
      "\u001b[1;31mModuleNotFoundError\u001b[0m: No module named 'workloadgen'"
     ]
    }
   ],
   "source": [
    "'''Example usage of the workloadgen library to train and generate workloads.'''\n",
    "\n",
    "import pandas as pd\n",
    "from workloadgen.data import load_and_clean_data\n",
    "from workloadgen.preprocess import log_transform, scale_data\n",
    "from workloadgen.model import VAE, train_vae, save_model, load_model\n",
    "from workloadgen.generate import generate_samples, inverse_transform\n",
    "from workloadgen.evaluate import compare_distributions\n",
    "\n",
    "# Load and clean data\n",
    "df = load_and_clean_data('SDSC_BLUE.csv')\n",
    "df_log = log_transform(df, ['Submit Time', 'Wait Time', 'Run Time', 'Requested Time'])\n",
    "\n",
    "# Scale data\n",
    "scaled_tensor, scaler = scale_data(df_log)\n",
    "\n",
    "# Train VAE\n",
    "input_dim = scaled_tensor.shape[1]\n",
    "model = VAE(input_dim=input_dim, latent_dim=20)\n",
    "train_loader = torch.utils.data.DataLoader(scaled_tensor, batch_size=128, shuffle=True)\n",
    "train_vae(model, train_loader, num_epochs=50)\n",
    "\n",
    "# Save model\n",
    "save_model(model, 'vae_model.pth')\n",
    "\n",
    "# Load model\n",
    "model = load_model('vae_model.pth', input_dim, latent_dim=20)\n",
    "\n",
    "# Generate synthetic samples\n",
    "z = torch.randn(1000, 20)\n",
    "generated = generate_samples(model, z)\n",
    "generated_df = inverse_transform(generated, scaler, df_log.columns)\n",
    "\n",
    "# Save synthetic data\n",
    "generated_df.to_csv('synthetic_workload.csv', index=False)\n",
    "\n",
    "# Compare distributions\n",
    "original_df = pd.read_csv('SDSC_BLUE.csv')\n",
    "compare_distributions(original_df, generated_df)\n"
   ]
  },
  {
   "cell_type": "code",
   "execution_count": null,
   "id": "4af4e9b3",
   "metadata": {},
   "outputs": [],
   "source": []
  }
 ],
 "metadata": {
  "kernelspec": {
   "display_name": "base",
   "language": "python",
   "name": "python3"
  },
  "language_info": {
   "codemirror_mode": {
    "name": "ipython",
    "version": 3
   },
   "file_extension": ".py",
   "mimetype": "text/x-python",
   "name": "python",
   "nbconvert_exporter": "python",
   "pygments_lexer": "ipython3",
   "version": "3.11.7"
  }
 },
 "nbformat": 4,
 "nbformat_minor": 5
}
